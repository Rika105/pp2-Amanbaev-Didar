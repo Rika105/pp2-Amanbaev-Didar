{
 "cells": [
  {
   "cell_type": "code",
   "execution_count": null,
   "metadata": {},
   "outputs": [],
   "source": [
    "#1\n",
    "def gram_to_ounce(x):\n",
    "    return 28.3495231 * x\n",
    "\n",
    "gram = int(input())\n",
    "ounce = gram_to_ounce(gram)\n",
    "\n",
    "print(ounce)"
   ]
  },
  {
   "cell_type": "code",
   "execution_count": null,
   "metadata": {},
   "outputs": [],
   "source": [
    "def celcius(F):\n",
    "    return 5/9 * (F-32)\n",
    "print(celcius(int(input())))"
   ]
  },
  {
   "cell_type": "code",
   "execution_count": null,
   "metadata": {},
   "outputs": [],
   "source": [
    "\"\"\" \n",
    "    r + c = 35     (1 1 | 35)               (1  1 | 35)                (1 1 | 35)              (1 0 | 12)\n",
    "    4r + 2c = 94   (4 2 | 94)  R2->-4R1+R2  (0 -2 |-46)  R2->-(1/2)R2  (0 1 | 23)  R1->-R2+R1  (0 1 | 23) \n",
    "\n",
    "    (r) = (12)\n",
    "    (c) = (35)\n",
    "\n",
    "    by formula: c = -(numleg-4*numhead)/2,  r = numhead-c\n",
    "\"\"\"\n",
    "\n",
    "def solve(numheads, numlegs):\n",
    "    c = -(numlegs-4*numheads)/2\n",
    "    r = numheads-c\n",
    "    return r, c\n",
    "\n",
    "print(solve(35, 94))"
   ]
  },
  {
   "cell_type": "code",
   "execution_count": null,
   "metadata": {},
   "outputs": [],
   "source": [
    "def filter_prime(l):\n",
    "    nwl = []\n",
    "    for i in l:\n",
    "        if i < 1:\n",
    "            continue\n",
    "        check = True\n",
    "        for j in range(2, int(pow(i, 1/2))+1):\n",
    "            if i%j == 0:\n",
    "                check = False\n",
    "                break\n",
    "        if check:\n",
    "            nwl.append(i)\n",
    "    return nwl\n",
    "#You are given list of numbers separated by spaces\n",
    "arr = list(map(int, input().split()))\n",
    "\n",
    "print(filter_prime(arr))"
   ]
  },
  {
   "cell_type": "code",
   "execution_count": null,
   "metadata": {},
   "outputs": [],
   "source": [
    "from itertools import permutations\n",
    "\n",
    "def perm(s):\n",
    "    return list(permutations(s))\n",
    "\n",
    "\n",
    "a = perm('abc')\n",
    "for i in a:\n",
    "    print(i)\n",
    "\n",
    "\n",
    "\n",
    "\n",
    "\n",
    "# out=[]\n",
    "# def perm(msg, i, length):\n",
    "#     if i==length:\n",
    "#         out.append(\"\".join(msg))\n",
    "#     else:\n",
    "#         for j in range(i, length):\n",
    "#             msg[i], msg[j] = msg[j], msg[i]\n",
    "#             perm(msg, i+1, length)\n",
    "#             msg[j], msg[i] = msg[i], msg[j]\n",
    "\n",
    "# msg=\"acb\"\n",
    "# perm(list(msg), 0, len(msg))\n",
    "# print(out)"
   ]
  },
  {
   "cell_type": "code",
   "execution_count": null,
   "metadata": {},
   "outputs": [],
   "source": [
    "def reversed(s = input()):\n",
    "    return s[::-1]\n",
    "\n",
    "s = reversed()\n",
    "print(s)"
   ]
  },
  {
   "cell_type": "code",
   "execution_count": null,
   "metadata": {},
   "outputs": [],
   "source": [
    "def has_33(nums):\n",
    "    d = [i for i, el in enumerate(nums) if el==3]\n",
    "    for i in range(len(d)-1):\n",
    "        if d[i+1]-d[i] == 1:\n",
    "            return True\n",
    "    return False\n",
    "\n",
    "has_33([1, 3, 3])\n",
    "has_33([1, 3, 1, 3])\n",
    "has_33([3, 1, 3])\n",
    "\n",
    "# print(has_33([1, 3, 3]))\n",
    "# print(has_33([1, 3, 1, 3]))\n",
    "# print(has_33([3, 1, 3]))"
   ]
  },
  {
   "cell_type": "code",
   "execution_count": null,
   "metadata": {},
   "outputs": [],
   "source": [
    "def spy_game(nums):\n",
    "    id = -1\n",
    "    while True:\n",
    "        try:\n",
    "            id = nums.index(7, id+1)\n",
    "            if nums[:id].count(0) >= 2:\n",
    "                return True\n",
    "        except:\n",
    "            #return False\n",
    "            break\n",
    "    return False\n",
    "\n",
    "spy_game([1,2,4,0,0,7,5]) #True\n",
    "spy_game([1,0,2,4,0,5,7]) #True\n",
    "spy_game([1,7,2,0,4,5,0]) #False\n",
    "\n",
    "\n",
    "print(spy_game([1,2,4,0,0,7,5])) #True\n",
    "print(spy_game([1,0,2,4,0,5,7])) #True\n",
    "print(spy_game([1,7,2,0,4,5,0])) #False"
   ]
  },
  {
   "cell_type": "code",
   "execution_count": null,
   "metadata": {},
   "outputs": [],
   "source": [
    "import math\n",
    "def v(r):\n",
    "    return 4/3 * math.pi * pow(r, 3)\n",
    "\n",
    "if __name__ == \"__main__\":\n",
    "    r = int(input())\n",
    "    print(f'Volume = {v(r)}')"
   ]
  },
  {
   "cell_type": "code",
   "execution_count": null,
   "metadata": {},
   "outputs": [],
   "source": [
    "def unique(l):\n",
    "    d = []\n",
    "    for i in l:\n",
    "        if i not in d: \n",
    "            d.append(i)\n",
    "    return d\n",
    "if __name__ == \"__main__\":\n",
    "    l = list(map(int, input().split()))\n",
    "\n",
    "    new = unique(l)\n",
    "\n",
    "    print(new)"
   ]
  },
  {
   "cell_type": "code",
   "execution_count": null,
   "metadata": {},
   "outputs": [],
   "source": [
    "def palindrome(s):\n",
    "    return s[::-1] == s\n",
    "\n",
    "if __name__ == \"__main__\":\n",
    "    s = input()\n",
    "    print(palindrome(s))"
   ]
  },
  {
   "cell_type": "code",
   "execution_count": null,
   "metadata": {},
   "outputs": [],
   "source": [
    "def histogram(l):\n",
    "    for i in l:\n",
    "        print('*'*i)\n",
    "\n",
    "histogram([4, 9, 7])"
   ]
  },
  {
   "cell_type": "code",
   "execution_count": null,
   "metadata": {},
   "outputs": [],
   "source": [
    "import random\n",
    "def guess(num, i = 0):\n",
    "    print('Take a guess.')\n",
    "    n = int(input())\n",
    "    if n < num:\n",
    "        print('\\nYour guess is too low.')\n",
    "        return guess(num, i+1)\n",
    "    elif n > num:\n",
    "        print('\\nYour guess is too high.')\n",
    "        return guess(num, i+1)\n",
    "    else:\n",
    "        return i+1\n",
    "    \n",
    "if __name__ == \"__main__\":\n",
    "    num = random.randint(1, 20)\n",
    "    name = input('Hello! What is your name?\\n')\n",
    "    print(f'\\nWell, {name}, I am thinking of a number between 1 and 20.')\n",
    "\n",
    "    attempts = guess(num)\n",
    "    print(f'\\nGood job, {name}! You guessed my number in {attempts} guesses!')"
   ]
  }
 ],
 "metadata": {
  "kernelspec": {
   "display_name": "Python 3",
   "language": "python",
   "name": "python3"
  },
  "language_info": {
   "codemirror_mode": {
    "name": "ipython",
    "version": 3
   },
   "file_extension": ".py",
   "mimetype": "text/x-python",
   "name": "python",
   "nbconvert_exporter": "python",
   "pygments_lexer": "ipython3",
   "version": "3.12.6"
  }
 },
 "nbformat": 4,
 "nbformat_minor": 2
}
